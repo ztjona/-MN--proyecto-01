{
  "nbformat": 4,
  "nbformat_minor": 0,
  "metadata": {
    "colab": {
      "provenance": [],
      "include_colab_link": true
    },
    "kernelspec": {
      "name": "python3",
      "display_name": "Python 3"
    },
    "language_info": {
      "name": "python"
    }
  },
  "cells": [
    {
      "cell_type": "markdown",
      "metadata": {
        "id": "view-in-github",
        "colab_type": "text"
      },
      "source": [
        "<a href=\"https://colab.research.google.com/github/ztjona/-MN--proyecto-01/blob/main/%5BUnidad_02_C%5D_M%C3%A9todo_de_la_Secante.ipynb\" target=\"_parent\"><img src=\"https://colab.research.google.com/assets/colab-badge.svg\" alt=\"Open In Colab\"/></a>"
      ]
    },
    {
      "cell_type": "code",
      "source": [
        "from scipy.optimize import newton\n",
        "newton(func= lambda x: x**3 - 3*x**2 + x - 1, x0=2)\n"
      ],
      "metadata": {
        "colab": {
          "base_uri": "https://localhost:8080/"
        },
        "id": "N_98PfIOKh86",
        "outputId": "a01adbd8-9d03-4d79-c6cd-7707ed9b93b0"
      },
      "execution_count": null,
      "outputs": [
        {
          "output_type": "execute_result",
          "data": {
            "text/plain": [
              "2.769292354238631"
            ]
          },
          "metadata": {},
          "execution_count": 1
        }
      ]
    },
    {
      "cell_type": "code",
      "source": [
        "from scipy.optimize import newton\n",
        "from math import atan\n",
        "def f(x):\n",
        "  print(x)\n",
        "  return x**3 - 3*x**2 + x - 1\n",
        "x0 = 2\n",
        "r = newton(func=f, x0=x0, full_output=True, x1=2)\n",
        "# r = newton(func=f, x0=x0, full_output=True)\n",
        "r"
      ],
      "metadata": {
        "colab": {
          "base_uri": "https://localhost:8080/",
          "height": 367
        },
        "id": "SBXp8CPalcTF",
        "outputId": "44222993-fef1-4560-82ed-4019f01c39d4"
      },
      "execution_count": null,
      "outputs": [
        {
          "output_type": "error",
          "ename": "ValueError",
          "evalue": "x1 and x0 must be different",
          "traceback": [
            "\u001b[0;31m---------------------------------------------------------------------------\u001b[0m",
            "\u001b[0;31mValueError\u001b[0m                                Traceback (most recent call last)",
            "\u001b[0;32m<ipython-input-7-0962779c51cb>\u001b[0m in \u001b[0;36m<cell line: 7>\u001b[0;34m()\u001b[0m\n\u001b[1;32m      5\u001b[0m   \u001b[0;32mreturn\u001b[0m \u001b[0mx\u001b[0m\u001b[0;34m**\u001b[0m\u001b[0;36m3\u001b[0m \u001b[0;34m-\u001b[0m \u001b[0;36m3\u001b[0m\u001b[0;34m*\u001b[0m\u001b[0mx\u001b[0m\u001b[0;34m**\u001b[0m\u001b[0;36m2\u001b[0m \u001b[0;34m+\u001b[0m \u001b[0mx\u001b[0m \u001b[0;34m-\u001b[0m \u001b[0;36m1\u001b[0m\u001b[0;34m\u001b[0m\u001b[0;34m\u001b[0m\u001b[0m\n\u001b[1;32m      6\u001b[0m \u001b[0mx0\u001b[0m \u001b[0;34m=\u001b[0m \u001b[0;36m2\u001b[0m\u001b[0;34m\u001b[0m\u001b[0;34m\u001b[0m\u001b[0m\n\u001b[0;32m----> 7\u001b[0;31m \u001b[0mr\u001b[0m \u001b[0;34m=\u001b[0m \u001b[0mnewton\u001b[0m\u001b[0;34m(\u001b[0m\u001b[0mfunc\u001b[0m\u001b[0;34m=\u001b[0m\u001b[0mf\u001b[0m\u001b[0;34m,\u001b[0m \u001b[0mx0\u001b[0m\u001b[0;34m=\u001b[0m\u001b[0mx0\u001b[0m\u001b[0;34m,\u001b[0m \u001b[0mfull_output\u001b[0m\u001b[0;34m=\u001b[0m\u001b[0;32mTrue\u001b[0m\u001b[0;34m,\u001b[0m \u001b[0mx1\u001b[0m\u001b[0;34m=\u001b[0m\u001b[0;36m2\u001b[0m\u001b[0;34m)\u001b[0m\u001b[0;34m\u001b[0m\u001b[0;34m\u001b[0m\u001b[0m\n\u001b[0m\u001b[1;32m      8\u001b[0m \u001b[0;31m# r = newton(func=f, x0=x0, full_output=True)\u001b[0m\u001b[0;34m\u001b[0m\u001b[0;34m\u001b[0m\u001b[0m\n\u001b[1;32m      9\u001b[0m \u001b[0mr\u001b[0m\u001b[0;34m\u001b[0m\u001b[0;34m\u001b[0m\u001b[0m\n",
            "\u001b[0;32m/usr/local/lib/python3.10/dist-packages/scipy/optimize/_zeros_py.py\u001b[0m in \u001b[0;36mnewton\u001b[0;34m(func, x0, fprime, args, tol, maxiter, fprime2, x1, rtol, full_output, disp)\u001b[0m\n\u001b[1;32m    341\u001b[0m         \u001b[0;32mif\u001b[0m \u001b[0mx1\u001b[0m \u001b[0;32mis\u001b[0m \u001b[0;32mnot\u001b[0m \u001b[0;32mNone\u001b[0m\u001b[0;34m:\u001b[0m\u001b[0;34m\u001b[0m\u001b[0;34m\u001b[0m\u001b[0m\n\u001b[1;32m    342\u001b[0m             \u001b[0;32mif\u001b[0m \u001b[0mx1\u001b[0m \u001b[0;34m==\u001b[0m \u001b[0mx0\u001b[0m\u001b[0;34m:\u001b[0m\u001b[0;34m\u001b[0m\u001b[0;34m\u001b[0m\u001b[0m\n\u001b[0;32m--> 343\u001b[0;31m                 \u001b[0;32mraise\u001b[0m \u001b[0mValueError\u001b[0m\u001b[0;34m(\u001b[0m\u001b[0;34m\"x1 and x0 must be different\"\u001b[0m\u001b[0;34m)\u001b[0m\u001b[0;34m\u001b[0m\u001b[0;34m\u001b[0m\u001b[0m\n\u001b[0m\u001b[1;32m    344\u001b[0m             \u001b[0mp1\u001b[0m \u001b[0;34m=\u001b[0m \u001b[0mx1\u001b[0m\u001b[0;34m\u001b[0m\u001b[0;34m\u001b[0m\u001b[0m\n\u001b[1;32m    345\u001b[0m         \u001b[0;32melse\u001b[0m\u001b[0;34m:\u001b[0m\u001b[0;34m\u001b[0m\u001b[0;34m\u001b[0m\u001b[0m\n",
            "\u001b[0;31mValueError\u001b[0m: x1 and x0 must be different"
          ]
        }
      ]
    },
    {
      "cell_type": "code",
      "execution_count": null,
      "metadata": {
        "colab": {
          "base_uri": "https://localhost:8080/",
          "height": 1000
        },
        "id": "l4YzSJWjDou3",
        "outputId": "777b6426-868f-4295-e5ca-2785398e735e"
      },
      "outputs": [
        {
          "output_type": "stream",
          "name": "stdout",
          "text": [
            "-2.0\n",
            "1\n",
            "1.2857142857142856\n",
            "1.6950819672131145\n",
            "-0.7748031082586105\n",
            "9.341809126172894\n",
            "-0.7025548271802171\n",
            "-0.6398337321858657\n",
            "-0.1492217222804825\n",
            "0.16388885530065317\n",
            "1.094159278280625\n",
            "-0.5016358550636485\n",
            "18.96820265437404\n",
            "-0.49358943550390144\n",
            "-0.48567471990184236\n",
            "0.00989370170923414\n",
            "0.3824320193224762\n",
            "-36.8883478382091\n",
            "0.38311848996599596\n",
            "0.3838053770090825\n",
            "-0.7813039361223781\n",
            "0.7617063820207044\n",
            "1.6907658858382513\n",
            "-0.18082024108133504\n",
            "-1.541604333985567\n",
            "-0.035729163724326184\n",
            "0.09159687068917757\n",
            "1.2036794520897345\n",
            "-0.6159622875889945\n",
            "8.615014383568647\n",
            "-0.5514208820047531\n",
            "-0.4949328497043005\n",
            "-0.021027192500849307\n",
            "0.3436221461837658\n",
            "7.103053324075566\n",
            "0.37424942597206373\n",
            "0.4054727219784445\n",
            "-0.7509814989633229\n",
            "0.8204810583203269\n",
            "1.9863219602430204\n",
            "-0.5845870939770738\n",
            "-36.07455854205274\n",
            "-0.5826275269387517\n",
            "-0.5806754014852797\n",
            "-0.07421038035244579\n",
            "0.2514604030995086\n",
            "2.030903781215084\n",
            "-0.5515499084587636\n",
            "-20.886702658247163\n",
            "-0.5464233184665396\n",
            "-0.5413473685754302\n",
            "-0.040611988847675355\n"
          ]
        },
        {
          "output_type": "error",
          "ename": "RuntimeError",
          "evalue": "Failed to converge after 50 iterations, value is -0.040611988847675355.",
          "traceback": [
            "\u001b[0;31m---------------------------------------------------------------------------\u001b[0m",
            "\u001b[0;31mRuntimeError\u001b[0m                              Traceback (most recent call last)",
            "\u001b[0;32m<ipython-input-2-55bcaccb6a4b>\u001b[0m in \u001b[0;36m<cell line: 8>\u001b[0;34m()\u001b[0m\n\u001b[1;32m      6\u001b[0m   \u001b[0;32mreturn\u001b[0m \u001b[0mx\u001b[0m\u001b[0;34m**\u001b[0m\u001b[0;36m3\u001b[0m \u001b[0;34m-\u001b[0m \u001b[0;36m3\u001b[0m\u001b[0;34m*\u001b[0m\u001b[0mx\u001b[0m\u001b[0;34m**\u001b[0m\u001b[0;36m2\u001b[0m \u001b[0;34m+\u001b[0m \u001b[0mx\u001b[0m \u001b[0;34m-\u001b[0m \u001b[0;36m1\u001b[0m\u001b[0;34m\u001b[0m\u001b[0;34m\u001b[0m\u001b[0m\n\u001b[1;32m      7\u001b[0m \u001b[0mx0\u001b[0m \u001b[0;34m=\u001b[0m \u001b[0;34m-\u001b[0m\u001b[0;36m2\u001b[0m\u001b[0;34m\u001b[0m\u001b[0;34m\u001b[0m\u001b[0m\n\u001b[0;32m----> 8\u001b[0;31m \u001b[0mr\u001b[0m \u001b[0;34m=\u001b[0m \u001b[0mnewton\u001b[0m\u001b[0;34m(\u001b[0m\u001b[0mfunc\u001b[0m\u001b[0;34m=\u001b[0m\u001b[0mf\u001b[0m\u001b[0;34m,\u001b[0m \u001b[0mx0\u001b[0m\u001b[0;34m=\u001b[0m\u001b[0mx0\u001b[0m\u001b[0;34m,\u001b[0m \u001b[0mfull_output\u001b[0m\u001b[0;34m=\u001b[0m\u001b[0;32mTrue\u001b[0m\u001b[0;34m,\u001b[0m \u001b[0mx1\u001b[0m\u001b[0;34m=\u001b[0m\u001b[0;36m1\u001b[0m\u001b[0;34m)\u001b[0m\u001b[0;34m\u001b[0m\u001b[0;34m\u001b[0m\u001b[0m\n\u001b[0m\u001b[1;32m      9\u001b[0m \u001b[0;31m# r = newton(func=f, x0=x0, full_output=True)\u001b[0m\u001b[0;34m\u001b[0m\u001b[0;34m\u001b[0m\u001b[0m\n\u001b[1;32m     10\u001b[0m \u001b[0mr\u001b[0m\u001b[0;34m\u001b[0m\u001b[0;34m\u001b[0m\u001b[0m\n",
            "\u001b[0;32m/usr/local/lib/python3.10/dist-packages/scipy/optimize/_zeros_py.py\u001b[0m in \u001b[0;36mnewton\u001b[0;34m(func, x0, fprime, args, tol, maxiter, fprime2, x1, rtol, full_output, disp)\u001b[0m\n\u001b[1;32m    382\u001b[0m         msg = (\"Failed to converge after %d iterations, value is %s.\"\n\u001b[1;32m    383\u001b[0m                % (itr + 1, p))\n\u001b[0;32m--> 384\u001b[0;31m         \u001b[0;32mraise\u001b[0m \u001b[0mRuntimeError\u001b[0m\u001b[0;34m(\u001b[0m\u001b[0mmsg\u001b[0m\u001b[0;34m)\u001b[0m\u001b[0;34m\u001b[0m\u001b[0;34m\u001b[0m\u001b[0m\n\u001b[0m\u001b[1;32m    385\u001b[0m \u001b[0;34m\u001b[0m\u001b[0m\n\u001b[1;32m    386\u001b[0m     \u001b[0;32mreturn\u001b[0m \u001b[0m_results_select\u001b[0m\u001b[0;34m(\u001b[0m\u001b[0mfull_output\u001b[0m\u001b[0;34m,\u001b[0m \u001b[0;34m(\u001b[0m\u001b[0mp\u001b[0m\u001b[0;34m,\u001b[0m \u001b[0mfuncalls\u001b[0m\u001b[0;34m,\u001b[0m \u001b[0mitr\u001b[0m \u001b[0;34m+\u001b[0m \u001b[0;36m1\u001b[0m\u001b[0;34m,\u001b[0m \u001b[0m_ECONVERR\u001b[0m\u001b[0;34m)\u001b[0m\u001b[0;34m)\u001b[0m\u001b[0;34m\u001b[0m\u001b[0;34m\u001b[0m\u001b[0m\n",
            "\u001b[0;31mRuntimeError\u001b[0m: Failed to converge after 50 iterations, value is -0.040611988847675355."
          ]
        }
      ],
      "source": [
        "from scipy.optimize import newton\n",
        "from math import atan\n",
        "# f = lambda x: x**3 - 3*x**2 + x - 1\n",
        "def f(x):\n",
        "  print(x)\n",
        "  return x**3 - 3*x**2 + x - 1\n",
        "x0 = -2\n",
        "r = newton(func=f, x0=x0, full_output=True, x1=1)\n",
        "# r = newton(func=f, x0=x0, full_output=True)\n",
        "r"
      ]
    },
    {
      "cell_type": "code",
      "source": [
        "# Sí\n",
        "x0 = 2\n",
        "r = newton(func=f, x0=x0, full_output=True, x1=1)"
      ],
      "metadata": {
        "id": "2a9t2u7ErxaU"
      },
      "execution_count": null,
      "outputs": []
    },
    {
      "cell_type": "code",
      "source": [
        "x0 = 2\n",
        "r = newton(func=f, x0=x0, full_output=True, x1=4)"
      ],
      "metadata": {
        "id": "dgCo3h85sFko"
      },
      "execution_count": null,
      "outputs": []
    },
    {
      "cell_type": "code",
      "source": [
        "x0 = 2\n",
        "r = newton(func=f, x0=x0, full_output=True, x1=3)"
      ],
      "metadata": {
        "id": "C3-X5qIqsmg6"
      },
      "execution_count": null,
      "outputs": []
    },
    {
      "cell_type": "code",
      "source": [
        "from scipy.optimize import newton\n",
        "from math import atan\n",
        "# f = lambda x: x**3 - 3*x**2 + x - 1\n",
        "def f(x):\n",
        "  print(x)\n",
        "  return x**3 - 3*x**2 + x - 1\n",
        "x0 = 3\n",
        "r = newton(func=f, x0=x0, full_output=True, x1=3)\n",
        "# r = newton(func=f, x0=x0, full_output=True)\n",
        "r"
      ],
      "metadata": {
        "id": "71Ql6mGHZXHP"
      },
      "execution_count": null,
      "outputs": []
    },
    {
      "cell_type": "code",
      "source": [
        "newton(func=f, x0=2, full_output=True)\n"
      ],
      "metadata": {
        "id": "GcPyp4GDRvPc"
      },
      "execution_count": null,
      "outputs": []
    },
    {
      "cell_type": "markdown",
      "source": [
        "![image.png](data:image/png;base64,iVBORw0KGgoAAAANSUhEUgAAAj4AAAC9CAYAAACziXfzAAAAAXNSR0IArs4c6QAAAARnQU1BAACxjwv8YQUAAAAJcEhZcwAADsMAAA7DAcdvqGQAADqySURBVHhe7d0PUFXnnTfw777um7QlXqIYQ9wqf3PDWlKTV9COWQ3BvoVgsJHWVdvJOmSgmQyhdrNIxlm7vLTuMEG2jUXeTIITJs20xrrBFFIi7UpQVycIbmK1DiECUltjjRfDNbSbvHX6Ps85z7n3nHP/w0Uv3O8nc+I9zzn33HPOvdzzu8/vec7zV4sWLfoLYkB6ejpGRkZw/fp1VRK5aGyDiIiIZq7/of4lIiIimvEY+NjIWqNZs2apuYmJxjaIiIgo+hj4EBERUdxg4ENERERxg4EPERERxQ0GPkRERBQ3fLqzF25tQnGqmpHOt6Ni50E1Y+XcXIctyxxwn9iFbS8PqFIhqxR1lTlwqFmf5X7ESnf2WNmGIbnyfnz+N++gr+sW3P0vX0Dif8rHamFY9OfdM1vNCh+f/A26X/1UzVEkbtvoRJ5zFN3fu4KPVdnk3YacnXcDb0b63hIRUaR8anwO7qxARYUxtWM4tRhVBWqhmQhuSpeJoMat5j0KUSWCHleb2kZjH7Bsi/9t0BSTF1QR9Fx9H29sfcczxWrQI4OKR/5lntjrmytW9oOIiKIvRKprCC4R2CQlO9W8V2FxDnCiBYdHVYHi3Pwg0tx9aOtUBf1infNAWl4pfLdCwd2C2XPUQ/E4cfY4xn6nZsPh/Iy4eI/jvc7o1U0QERFNZ8Hv3KylrJwYaNyGln5VJhVUoWkt0F7RAGxtwoOXjVSWE6V1W+DsN6W2PGmvYW19/0kzprrstJTK0gQ1Z3PtQnipFuc85JUvxG2/fR9vNAZZO38hHnl4npoBLvlJuciUW84iNSPY02X25ZZtyO3/3Z/Q/Z+fRZ7xOqZjCHysImhrHsD7wbOkOvUa711diHvEfnx88n383nm3luKz7ItxTtSs+TjC2Q9tHeco+gbmIsdY1+f86qmrZDUHXEHf1gu4pOY0tnMu+TvvREQUXbMSExP/j3qsyODleygvWYM1yxfgYtvT+L89apFGLC8rxCed2/HjQSDzgTVIHe/BoVMusSwJ93/5S8CZV3BcLJNtgL5XAvyycRB3LV+IT4cO4d0r+lbs5syZg7GxMfzlLxMfQWMmbePTMy4M/OpjOL7yGfy++Td4+7/+jAVL/x9+vfU9/NfhPyKsZJXrjzh//X/CmbMQzq/cBWfWxxg4YXumdgH+rLiwi9d49RIGRv4M54Z7MO/6JVwc1lfRgpo5IlDZPoQzvxLriOn8GVNQJ7aR9eF76H5RX3YxyYHsVZ+D+1duPThLS4TzC3chNdmltiGO65E0pCaNatvRj1V/XursP5hex4VR+bEKh3qNz5z7DY5/kADn0mT8uesd9N8qjnu+Om4V9HwsAgx9Xz/GvM1ZcEawH7dkJyE1dR4W/HkEb+z4rXa+FuSnmc6XHvTcJgKqX/7w92p7yVix2XQ+7Odce5+TgHPGNoiIaKr4SXUNoGWb0cZnF1x5TWjaWqiWyWCmFDkwpbL8ksFTE7bMPyy2YdTyuPCBudaIQtNSVX/CNVnj8fnP4rZrf4q8QW3XBb1tz5si4lx0Nx7ZKYKYfLVMSP7CPHx88ry3VmXgCvp/K8tVnYgIFrIWjeO9V4PUMInXMNdUfPxfo2Ldz2K2Jbd5BX2eWqqP8TvxGrfdcYs2Fz1i341aqGsX0C/26eMPx/V54bb/NVer/fLu68foPzmO25wOTw1QWGRtlVHDM+DG76+Jbc9Xx5I/B8nm/RA+fvUiLmEePq/Ou885JyKiGyZEGx8RBHWLn6Cp2dBDn0KsXQb0vdwilgSWtnYLkrpF4GT0BktJ8vTwonDInlj34xEtJTMPOSJY0dIisxcizxa4hE0FQN3iQp/88EKVhtHbEN229AtaQGRM5pSVFnAZwVdAspbD+3x9v2PPbXckeII/YwqYTpyg2+Z/VgRG9gD1U4x5giNzuy0iIrrRwruPj9uFIflvQTbSRAiTU9mEpiZ9kl3fHcu2iMd1KM0awLF+t1jfWiPkTE4Czp8J2L6H7D7F+99TtTSydkEFLFpbEvF4Mu1ArLUxn+LaVVF28jeeHl+eyajR+J28iNtrb8xkkHY3ktW+aVPzBduFPzZotT/m/TSmKHZN//jyn0SAKoNFM9kwXS4LK0FJRERTKETgU4iqtWlw9x/Ta3g6G1QKzDu1n9fv01NRoTeAHugZgNuRg9LN6kqpdXt3YPjXDHsm5Op/RzWISC5YiNuujeIDVYNz6TdXcNvSVNwdKLDRUjkJuGdjoO7d6qL+oXFRF4HQxonV+OhBw1zcFTDImhwt6Ft0d8gas0ntR9dVLa2VtdGbxkuuFIGhSr3JYPODAXN6zd4QmoiIppKtV5cIdJqKkabmpOG2CjQEac8jb3jo7dWl2G5gGGobEnt1+dJ6EN1xUat9kQ2Msz6M8MaDfnoO+e0RFrKHUYibINqef+nN94GHF2DM6JGlLYelZ5PWYBq+vc2svcMi7NWlXuNj1fNKHidM51Bj69Ul+buhY6D9MHp1ec+hfm7+ZsC0Dftr+Jxz6/m89OZvMPZ3E7k5JRERRSp4d/YbiIEPERERTbXw2vgQERERzQAMfIiIiChuMPAhIiKiuMHAh4iIiOIGAx8iIiKKGwx8iIiIKG4w8CEiIqK4wcCHiIiI4gYDHyIiIoobDHyIiIgobvgEPnLsLWPkdW3aWqiW+HJurtPWqTMGJDUrqAr5fApHOVa8OIKyF/ciSZX443xWrPOqMR1C1Mf5LG9ER0cHOnaXqYIJWLkXG8T+bdhargpmoMcO6e/Bs/WqQKpH0aunsWKlmiUiopvGJ/A5uNM8+no7hlOLUVWgFpppo64DbreaN9GCpy+60OdnGUVf0tbTWJVyDkc2pmCPNq3WR9OPkrLdIuBZMoreMVUww8nzGSrQDM6Na3OWRj/4JCKiSQuR6hqCSwQvScm+X+GFxTnAiRYcHlUFhoIqbbT2ip3HVAFNTjOOf0sEM9/aBJcqsUua5wBGTkY12PEob0TBh/UoeuotVTAJRzdhnwjM9u1sVgUz1WVceH8+7p/JNVtERNNU8MAn6wE4HW4M9NguqSK4KU4dxuGX/VxqOxuwzV85RcySvppUDUQgeajd24GOjkZ4E1iqbG+teCQ0V2J9bbe2ZOJkqsd7LIFSXdZ0XaQpMT0lWPSYSg2qbRQ9phYbjFSUMZlSUlpNjyhbt1QEko4VWOdZL/I01ZW3zwB35wd8z4zXMibrsRqpMfN587MPtmPxOVbNk3ixqwtdB+qwWpUQEcUzP4GPE6V1qn1PZQ5cbdvQ0q8WacTyvDQMtzXgoCqhqTHwjJ66OnDSX87Qe1FclSJmUzZ4LoDhBwzdqNlUj96xDJSotjtlu6uRi17Ub6oRS6OlGh1aCm4HzgZIf2rpujnHccCTrptYzdCCNdtx+1HveVuwxtTeSQYKa+bjbJPxGmJ/5ojzpoIf1857Pc+D27wv9+L4UW2V8B3dhHeuZuMePwGTPNZ1Sy+bUpP7cG3pdtv75sDiiofxkdrXIyNi/jFT8Gs/lqbjmL0mUPBDREQGP4HPAFq2GW18dsGVZ22g7Nxcihz0oa1TFdBNYgQT8qIoZkf2qYtopAGDDH5aMZhegsbdjShJH0RrVIOeCDj8BwqRuHZyBzpe0R+73j6Da5iPeWqbzuxMcZ7eNAUxzeLxORE0Tk17nIEzl7H4EXMjZ6kc99ztEPv5qik1WY0eEWzNttUQXfyFN+AaOCP20zHfs1wey7WTP/Ieiwy0xOdgQbb99Z7Ht/Lzkb9uGw6pEiKieBaijY8IgrqHgdRs6KFPIdYuA/pebpma9iR0k+xB5YFBZKRnYPBApZi78WRty4GTwOIKI3UT7Z5p5Zg3RwRGV95X88r5y5bgKKpeOYmLPkHV3bjdIfbjkjU4dV26bAlsgtOPZfbS7Z5aPjlpNX9ERBRUiMBHcbswJP8tyEYaHMipVKkwMRWniu/rZVvE4zqUZmlr03STX4v965LRe6AXyev2ozZfld9gRqpJr8XKxKqotmtqxpWrIliYd7eaV1LnYzYu40qkqaywyJqc+ci0pJ/ex0dusR/J1nRkUvJ88Xd2OWADdiv9WGTtlnG+PNMz1WodIiLyJ0TgU4iqtWlw9x/Ta3g6G0xd3fWp/bz4vj6xSzy2twWi6aEMjVW5QE8Tappr0NQD5FaZGzvfHK4rARoDTYKWLkp52NRIuB5Fa2TKyJx2MmpfJp92k2S6bXb2UjUnNeO9992YvXSjtyZo5V58eakDF48G7rlnJ49l9tJvh9Homo2biYjMbIGPCHRUTY4+FQNtFZH10soqRZ323C3IcYj51GJ9W3WlU9KOYubyNl629jKKZgpIBD0dJcgY60WT6rnVXdukN3Y2enrJ2iB548KOauQmivn0Ev1Ghkavr3B4eh9tx2JxKJ4UjalHlb1Hl9b4N0gX/gl5ZbUtnbYBs0/u8G0TJdbTGhN71pvEzQdl2xtkYoGalWTNllajZRxvxQpc+0WKp21SWMQ+7vnFZdM+6hMbNxMRBfdXixYt+ot6fFOlp6djZGQE169fVyWRm0nbICIiougLr40PERER0QzAwIeIiIjiBgMfIiIiihsMfIiIiChuMPAhIiKiuMHAJ0bJnmGzZs1ScxMTjW0QERHNJAx8iIiIKG4w8CEiIqK4wcCHiIiI4gYDHyIiIoobPkNWFG7VR1z3ON+Oip0H1YyVc3MdtixzaIOUmsfzMsp1bvQ1hh7AdCYNNzGTtuGxci82VKwA/I1t5SHHF9vgHZdqZF/0Rwsvb0THugxgqBVFT+1RhdOQcRzK4IEiVAY6rUREFDU+NT4Hd5pHX2/HcGoxqgrUQrOsUpQuE2GNfRBtWZ41gF1qG7tOADmVVShUi2mmKseKF0XQI4OdjSn6FOWgp2x3BzqWjKJ3TBVMV3Lg13XJ6G0oQlGRmA4MImPdftTmq+VERDRlQqS6huASgU1Ssu944IXFOcCJFhweVQWG/hZs29YCo/5n4OXDGEYasv0FTzR9HN2EfSKYCVzbczdudwAXz0S5hsdQ3oiCD+tR9NRbqmD6KivJRcJQJ2q6VEHzayKYS0BuiTYePhERTaHggU/WA3A63Bjo8aaxNAVVKE4dxmFTeotmKpm+GkGZmjZsLVflUSRrQDo60LHbdOFXZftr8vT55kqsr+3WH8cymcIy77ekyhq1U1eGJenA4ClTmq78a8hNFP8mLYTpWcKTeLGrC10H6rBalRAR0eT4CXycKK1rQlOTmCpz4Gqzt88Ry/PSMNzWAP8tf6ycmx+EWBtnOlUBTTPV6NBSVztw1p7WlB47pIIivW3PgjVGkHQaK1bqq4TUVYP1Db0YTy/xBAeNVblAT31Ug528mv1aAOIz7a1VAYd4XX/LxaTvVxhEgCZTVwnLK/TUlZbWyrC14RnH6KD+SEvf5Y+iXjwHiXORqRcTEdEU8WncbCWDoC3IGfU2cNYaLss2PCqdJRtDP3jZ2rjZI6sUdSJ4gq3xsz9sVGwVK9vwkm14tmPh+4EaN+sNm/GLFHS8oooipTX4BQaHMpCBQI2X81C7txq5rthu3CyDrOqsSxgUR5Lcbw7gZHBVgNGGTsytKkGyEdzJY5cB0KYaTIN6LSKiaStEG58BtHQPA6nZqnFyIdYuA/pe9rbhCUgFPY7z7SGDHiJNcyVaZdCTPojWKQhqbkiNj9Jd24ReEfRkiP83+dRaJSC3SgY/RZ6AKG9BsvYvERFNrRCBj+J2YUj+W5CNNDiQU6lSYWKSXd8dy7aIx3UozdLWFgpRpYKeQF3hiexkYFKS1IvWnmSUeIKR6OmuXa/3orJPnlqWPaj0t1xMkXY1L9ut10q1unJRbW67JF7jlPxjMjduFjLvSMB4/1us7SEimmIhAh8RwKxNg7v/mF7D09lg6uquT+3nRVx0Ypd4bLQFkumxYqS5+7CLQQ+Fq7wR1cuB3uYa7NFqS+wBw/ShBXCq1mrPU60YTC+xNHbec2oQ8LRnEsSxl6SP4+xRe9jDxs1ERNFmC3xEoKNqcvSpGGiriChV5dxcihx570JHDraYt1VXKkIimnY8jZe3Y7F4X2cv3a7PP1uvVogCrW1PBsZ7mlQtSDdqmvXGzp6eXkbPr45qvQeUXCbnp6BmaDK0tj3LEzB4oBJ6sm4PKrXGztWWHmr6vXtUKk27p896Sw0QERFNjRCNm28cNiq2ipVtEBERzSThtfEhIiIimgEY+BAREVHcYOBDREREcYOBDxEREcUNBj5EREQUNxj4UFCyZ9isWbPU3MREYxtERETRwMCHiIiI4gYDHyIiIoobDHyIiIgobjDwIaIZ5jr2/uwK9nKAM6IZbmJ/6z5DVhRu1Udc9wgywrpzcx22LHNog5R6x/OS430VI03NScNtFWjoVDMBzKRhHrgNq2hsI6pW7sWGihXAyR3YtzPCYdcnSR/L6xJai4yxvAxlaOwoAQ6EORK8HLusKhcJanYw3OdFqGx3B0rS1YxhrBf1nhHtY438Ivw9VrjuRMqTt6oyXenXv4GvplzAz//tKGB63KKWh2tV/iN4+n4Hxt95A9/scqvSm2khfvBPK4Ff/hRPn1ZFUeHAd8sfwVI59qLk/jV+0HwGR9TszKEfZ9bgjX4/A71v6rwj+PnWP89qBn4+y8nZ+Mk3v+j5joidz2v4wvqbfcKNEfHVua/AgWpVFIpPjc/BnebR19sxnFqMqgK10CyrFKXLxN+Cz3k8iAbT6O0VbcNIW1slwiEi6j56FuPIwBJjZHZD+RJROohT4QYvXTVYX1SEoqJW8awpNtQqXke+lppiNugRp7H2KlYgCTtsQY+H+6r3fJkfh0VekL6BJ3AeQ6pkJiv9urj4Xj2KR//tp2J6AyfxRTz99YVqaWyRwejr5dlYpeZnOnm8ehAg3xs52QN4EVSJoAci2NGX/zQmg56w3rdQf7MvOLBv6CNs+Nk47F+rgYRIdQ3BJc5VUrLvuOqFxTnAiRYcHlUFgYy44BZfRHdlqXmim+3oJuzbmHLDa3s0XW/h7BiQsUSNOq+ULckQf26nbLVAFJlPsPFLf8S5Qwnw984Ojnq/+M2Pw7UqfxXmvC0vIOINnOmSs/HlFDdO/ucFVeDG998Wj1OW4LvJqoimiDjXzSJYCVLbkzHXIa6t5wPXViYn4k6xnf6zsRfsRCLcv9nqJ+/EuUQXNj6hCkIIPjp7VinqKp0YaNyGln5VJhVUoWkt0F7RAGxtwoOXzakuKy0dljWAXdta4H8NHVM7VtyGXT2KXn0YHzX9CHhsOxZr1e9unG26F8ePaitonM+OYJWn+he4+IsUdLyiZrRtbMACNXctQKrLvg2f9R47hLI1mWrG/hqhaemurLOmdFEeavdWY26XOV2ll+UmqlmMo7dhPWq61KxHoBSZn/LyRnSsgzXNppWJoEuxp8y0VBdaUfSU/5BMO5Y7OlF0aol3O7KGyLO+3I8CjDY0idcyjsd+LKGONZxtCLLKe/Us7Ph7/4FPUEZaYOQoHv13dbFXZfJXs/XXsp6iuHOiqYN7V+L1r5hqTsyvqW17Ca7+5BTmfHMl9CyjCEB+8ga+f0mb0dm3IQyFneoyUljmtIE1vQKZzss4b0q1GM8J93X09ecM/hp33i/TLeK1fgl8Ve6zJ2Wmr2NJMWnnPBX95uO1pWzMaR0j7ejLzzkLyNiPo+jPWOlJ7fmkhmz7MaHUUYj3zZK+CpJa1NaD+XNj4+88mtn2w/6eyu1/efQNvIBVnvNrP96gqTa5/S9dxQ/enoOnjdcxHU903jer+ud/iw0i3LOnuP3xU+PjRGldE5qaxFSZA1ebLeiRy/PSMNzWAP8tfwQZMMnni2nLMhfaQwQ9ROFxYHHFdix8fwf2bEzBgZPA4sf2IkktlQFJ5pkUbZm+3I0Faw6JT6yhGh3ash0I9EMoaetprJpzHAfUNuTkG/TMFwGXWt50HLPXjKDoMbU8DFq6K3ExHspXBfkPYXHiOEZNdbh5NV8Dmr3ppdahBOSW14oQIYq0oCdZBBDqdRp6kbyuA432+uL0EnR0dHin3dbaKm25FlDJ7bRiUMxbtyH2vaoai/tF4CnWqe+B6VhU0OMypdMOXBLr70etcX40wbahq7/vI8D115EHPdKlM/jmT36N8ZSV+MG9ssCbKphQcBOQ2O495z3ph0ctr2lwYOk3ZfCjr/PzETFfbEoHaBetRHGBUNsQF5zIUm+yRuENnHQvxFdV6kpLa9nblFwd0x/Li+g/iSDmbfkc4M47/F2w/Eu/fw7+Q9s/8VryQiiP15GKB8OuNdLfhz+IC7PnnJkusEe69FTOD94ROyYvrJ51Ir94Jty/UqvR057/ywtifpW3dksFPd79OIo/3P8IfpIf/rkI531r+Xd9mXY8PmRQ/A28LiYt4BCfG/lYTsZ+aKkjWaYFaPJzpC9/XQTqpdoagn0/xHty51e+YfsMyvOhgl+1DkznQwt65njP9w/eScRXza8hOb6Ip+V7rq0jjlXMP6H2M5rvm6H63dvFF/ifw0p3+Ql8BtCyzWijswuuPBHAbPW20HFuLkUO+tAWrLFyfwu2GW18Gl14UARAftsJEUXIXPviunRZ/HHN9wY+r6y21Ly43j6Da5iPeStVQbgc2bgnwHOc2ZliH37krWU6ugnvjAALsutVQRi0dFcCFq9Ul/6Vi5EwdhZvmWovumsrLbUZe06JqChxLrz1TJMn02vjPU3e1+mqQaf4Jran4Xza+PjU/gyaapHOYXRMXCcWWEO08Z56rK/V67e6L4pvNuNYVNDX22raZvNr6DWdH0PAbWiuY6H4ILgv/7WanwAZ/IgLXvpXRCDy9ZVIHzka5aBHuoCnzb/SL/0W/X6CiaFfei8ALe+J9R1zYNTLld6zUPz6PjLhC4ROBj/iYiSDLnGsWnsRP7UL2oX0mzJ48dYI/OHD8M/J+DunPEHKkPh7PHJpDH9Q85FIF8c81WSNhqfW4/QpEeQ5MOcOfXbV4lStNtBbK3IBr4uLdkLGorDbFU3+fROfHRUg/Fx852g1hWre+JwaAYUWUGu1J0ZA4Q0WffZDfO7/Q2zP5xyba5y09804Hwtxr0yDtns/L0e6TmnB7b2W4Mn8mbqA0+I1EuZ6qnWnRuJ13K0eBhOijY8IgrqHgdRs1Ti5EGuXAX0vR1CDI4Kgw+eBtC+yeTNN3rVLpt/zItDZs3G16bMoU1kjKDOmihWYrZaEy7XzXr0mqcLYjrnGqBzz5gCzl273voaYzGmx8HTjrf5xJGQ9hDzx30NZCRjvf8vaYFj22jLXspjSUdGRpwUKCcurLbU5Pj24wjE2KsIdQzdqNhV5AhTDpYum+eZKEUCpQCljrvhlegkXzCkrsY0LLrFvd1jDvIDbiKbTR8VFZSHSZSAQKI0wSfLXsvFL/fV/0tNH4XPg8+IzGB3iQioDvZSFItAypSkMIih6eu4p00UzEXMi2tdokBd7PUAzzllEtSyTZASkWpsa0z7IyX+qJpBovm+Toe+HrM0xH4s3ZWVi1Php9KBLC/y09kPm2iQ5GWnZ6SFE4KO4XXqVXEE20sQB51SqVJiYZNd3x7It4nEdSoM0YHZfjod+EHTzlGPFixuwYGSfJ0Ul01DX1NJIyODH2MaRkUysetFIpzXjylW91snzGsb0TLgdKXV6jcViPFSu13icPWoOFMrQWJUL9OhpHW06EFn/o9D04ELWolhqc+QUoD3PlBgcFb9Mk7HQktbSg7LxD73hVGiztONxzP+zmp8YWcMhq/B/Lqvup6CXkLZ9S28cPX10U8j0jUx5/FKmOh6xNFo+cva8XmPgadwsaBc88cvd1BbkxvDWdOgpl0d80jLRpwd5Ru2W1rDWVMPimfzUksU2N34nvsNk7ZbPsYQb6Gu1P+baJO/krRG7ScZm4X31MJgQgU8hqtamwd1/TP9V3dng7aaupvbz4lSe2CUe29sCKQVVIjhyY6CHrXxoKt2N28UX1bUrxsdeBEKPRV7jY+e6Yr0qDZw5h9lLv40VkabP7JpPYVC2W1mX65PmQv5CEQqYazhEIBRxjY8t5SRrkGzbkOmzhOUVtrY0N5hK++WWeNNreTUVyE0cRKet1igULcef/gkiSDpa3btS/IqHVoXf0nVkSrpvazUHpi65sqdYZDU+bhweNKdYZLuPifzaNtowHcH3T5/BC+9A/II3tdHQUnDmtkUOfLdYNv4O0pMoYvpF2Jv+0PfJ24jZjwCpsiMfig97RG2HgluVv0ScU2+QpwWCMi044YArWu/b5MnUqaX9UsRk2srW7myCovm+RdLGz9arK/KbD8obHlp6dWk9vixb0Hp/BWwIrbAXkxW3YSfTWBuAYD2ofHpb7QPWyJ5gqueXbbmHrCVSNTb2Hl0ygDhiSacJfrYTac8uybg5oLntikG/0aGn/wh6D5zF4nVz0anSO9blXpZtWXpsDaK1YVT8eXq3obH16pLMPbtC3cDQt4eanZ/eZT70dbx7YW4zJIWzDekTHOoUl8XWRVj9gioKl9bgU7Z9sPcwkhd71XtGrePDWB4W2wVPPPfnWKn1oNFfV19uuamd9rrw7YGlAibZHujql2Tj43B/cat9sPQaMrZp7p1jfZ3IjtPoKSWPK9F0TPK1ZcNt1YbJOMfac2QtguzNFmi5LlBvKmsvI7mt8BvKWp8rWM6NEsG++BfqfQsUDJnfE522v1Hs1SX59C4Ltn3B55yZ99PnMxt4m9btRPa+eUX2tx+8O/sNxAu9FbdBFLny2ivY/qVbIrqLKxFNb5F0ZZfCa+NDRDQNNNfMwfGxj7Dh+U9UCRHNaE+4sSH9duwLM+iRGPgQ0QwyC5v+/m9wPOkaByklmvGui7/zT3G8PrIaXgY+RDTDyOBnHjYdUrNENENN7G+dgQ8RERHFDQY+REREFDcY+FBQQ0NDk+6NFY1tEBERRQMDHyIiIoobDHyIiIgobjDwISIiorjBwIeIiIjihk/gI8feMkZe16athWqJL+fmOm2dus1OVWIjx+0KsQ2aKfJQu7cDHR37b+6gl+GQ41N1iH3d7R0Yk4iI4oNP4HNwp3n09XYMpxajqkAtNMsqRekywB1wfDY1snvgFWimkCN/d1QA/caY07FLDrrZsWQUvWOqgIiI4kqIVNcQXCJuSUr2rdEpLM4BTrTg8KgqsHFufhBp59vR0q8KaIbKQ225HPF7PWouqqJYVd6Igg/rUfTUW6qAiIjiTfDAJ+sBOB1uDPQMqAKloArFqcM4/LKt3KBqg/raD6oCmrZkWmhvLfKM9JA2NcKbJOpGzaZK7FFzN41W62RLX6my/TV5+nxzJdbXduuPiYgoLvkJfJworVPteypz4GrbZqu1Ecvz0jDc1oBAYY1RG8TanhkiMRfV+aOoLypCUVE9escyUBLV9jFlaPQEVdapsVytEkpXDdY39GI8vUQ9R2yzKhfoqWewQ0REHn4CnwG0bDPa+OyCK8/aONm5uRQ56ENbpyqwC1UbRNPQIFo31UAPH7pR0zUIJC2EqkeJgj2o1IIq36myWa0SDhn8HBhExrpGNO4uQcZQK4MeIiKyCNHGRwRB3cNAajb00KcQa2UK6+UWscSf0LVBNEMkzkWmejh5UajxMTRXonUoAxnpIlh76qYn4IiIKMaECHwUtwtD8t+CbKTBgZxKlQoTU3Eq4Fi2RTyuQ+n/lm2CgLS13uVblomC1GLtsd/eYTTt5C1IBsZGcU7NT16UanyEvJr9KEnqRWtPMkpk2yRVTkREJIUIfFSX9P5jeg1PZ4Opq7s+tZ8XcdGJXeLxNrT8qgXbbMt3nXAD59u1xw2B0mM0jZTha8sTMN7/lkp9xZDyRlQvB3qba7Cntgm9yEU179VDREQmtsBHBDqqpkafioG2Cmxje504l4EST/qpBDhQZGk7o90bRy5blyHmEpBbNcE01WTIXmfi9cd7mlDTJQu6UdOsN3b29PQyen51VCM3UczLZXKeNUNERHHjrxYtWvQX9fimSk9Px8jICK5fv65KIsdtWEVjG3pAAbQWxUCXdSIiokkKr40PERER0QzAwIeIiIjiBgMfCq65EkVMcxER0QzBwIeIiIjiBgMfIiIiihsMfGLU0NDQ5HpjCdHYBhER0UzCwIeIiIjiBgMfIiIiihsMfIiIiChuMPAhIiKiuOEzZEXhVn3EdQ85wOjOg2rGyrm5Tht9XQ5S6h3PS473VYw0Nadzo69xG1r61awfHCpiAlbuxYaKFZitZi/+IgUdr6gZIiIi8hFirC49iJEDlfqMrJ5VirpKp4hpHEC/PfB5EK4QgY4dA5/JqEfRqxsABj5ERERBhUh1DcHlBpKSRYBjU1icA5xoweFRVUBEREQU44IHPlkPwOlwY6DHqM1RCqpQnDqMw55aHpoa5Vjx4gjKXlXTi3uRpJaEz7YNMRU9phYZHjsUfLnmSbzY1YWuA3VYrUqIiIimGz+BjxOldU1oahJTZQ5cbfaUlViel4bhtgb4b/kjOZBTqbYhprrNvjVGFIoMWLZj8dV92LMxRZuOXF2BdREGP85nrduQkyUdJoOeNfNxtkktbzqO2WsCBT9ERETTm5/AZwAt2ypQUSGnXXDlieBla6FaJhs0lyIHfWizt/nxOIgG7blqauwDlm1h8BOplflY6DiHI89UqwLxzrxxHNcc2bhnpSoIV8pSEa7658zOxLWTP8Lxo6rg6Ca8MwIsyK5XBYbn8a38fOSv24ZDqoSIiGi6CdHGRwRB3cNAajb00KcQa5cBfS+3iCVh6m/B4fOAY366KqCwpM7HbGRilSkFVWbqwRWugWdScGTEtB1LjVE55s0BZi/d7n0NMa1KUYuJiIhmmBCBj+J2YUj+W5CNNFsaS3Z9dyzbIh7XoTRLW9vGibvmqocUvvOXcQ3ncMSUotKne721M2GSwY/+3B04ixVY96xRm9OMK1eBayd3mLavJlNNExER0UwRIvApRNXaNLj7j+k1PJ0N3hSWmtrPi7joxC7x2H/3dS015nCjrz1wiyDy42gXLrgzscoTpESDHuiYDZw5h9lLv40VIdNnbNxMRETTn+0+Pr43Hxz2dw8fE3nDwwcvm+7jo93fJwcOfU5ERX3YtS10aoz38fFHNXD2nEzBfRwHvrUJLvEwaetprFtqXqiTNTj7djaLR8Gf76E1cM5UMzrfmyHKwGc9Msd68K9s50NERNNUiBsY3jgMfIiIiGiqhdfGh4iIiGgGYOBDREREcYOBDxEREcUNBj5EREQUN2KmcTMRERHRVIuZGh/ZE2rWrFlqbmK4DatobIOIiGgmYaqLiIiI4gYDHyIiIoobDHyIiIgobjDwISIiorjhE/jIsbeMkde1aWuhWuLLublOW6dus1OVmMgxu0zbqSpQ5UQ32+MVeP71ejz/w6kebnU1quXrvF6Bh1UJERHdXD6Bz8Gd5tHX2zGcWuw/aBGBTekywO1W8yZaQFTpxECjd1vBBjolulEe/qEIRO69il4/n9toe/iHBUhzX8MNeCkiIgpTiFTXEFziWzsp2bdGp7A4BzjRgsOjqsCjEGtFQNTXuA0t/aqIKBY8XoG8Ky/gyX/sUQVTKO8byEsbQdtLg6qAiIhiQfDAJ+sBOB1uDPQMqAKloArFqcM4/LKtXCrIFr9yB3CMQc/MkV+L/R0d6FDT/po8tUDKQ+3eDjSW6//6X0ewbaOjoxFlatEN81ITnvnXUIFIBh7/sUxPqenH38A9akn4xDYevw/oPYg3VQkREcUGP4GPE6V1qm1OZQ5cbfaaG7E8Lw3DbQ04qErMnMlJwOgHSDe3FaorFc+iaUkGLFW5uHSgCEVFcmrFpeXVPoFNxrpqzO1S6xwYRMLyCtTmq4UixGm0bENOldijloYjr2a/KWgyTXtrRegVLTLoeQK5rk48+Wi1NrW57sN3Ig1+Hi9ELt7FSyGDLCIiutH8BD4DaNlmtM3ZBVeeCFxMDZydm0uRgz60BWuzk1qM7F97t9EnnrElSCNpil15KxcjYagVlc2qQIQrr/WMIyHrIUvAMd5T712n+TX0jiVgboaaVzKWTLyOp7t2vSloMk2batCt1pm0vOW4xzGCtn88pAqAN3/+LtyODDwQdnS1GtVrUzDc/VO8p0qIiCh2hGjjI4Kg7mERyGRDD1tU+52XW8SSIM63mxoz27dB00nmHQlAeomllqV6uSgLQ/ICI1rYg8qiVgyatuOTCgvhhtT4pM+BAylYa6S55PSd+0SZldZA2ryOqXfYPf+8AmnDnah/SRUQEVFMCT1IaUEVmvJc2LVNBDvy8do0tcDOrTdoTjGtr5ZYtqGK7OS4UiMjI7h+/boqiRy3YRWNbciAo/qOThQ9FSgxJdv2VGNxfz3W1xp1L2Vo7CgBDhSZaopMTOkzv8unnCmlZardkQ2Sn/3OHHQ/2jTBtjlqu/ZIySACIsvrERHRDReixqcQVSLQcfcf0wOWzgaVvvJO7edFyHNil3is2gJ1nsGwIwdrPV3g9TZBnm3QtNJ99CzG00vQWK4KwpBXUyBCgEGcChTUdF3AJfUwpnT34D13CtZO+P4+g3jpH/S2QZ7puXfFT4IRtMnHDHqIiG46W42PCHSaimGu0xluC34PHnnDwwcv78I2cw8vefPCyhxPikAGRpblfrCmxSpWtqFRNTTmBJds06PX8Og1PrmJerlmrBf15rY3QZ9/A2k1Or6pK7jfxXP/YLTJ8VNrY1keoUnXIhERUTSFTnXdIAw4rGJlG6H5S3URERHFphCpLiIiIqKZg4EPERERxQ0GPjRJ3ajZVMQ0FxERTQsMfIiIiChuMPAhIiKiuMHAh4iIiOIGAx8iIiKKGwx8iIiIKG4w8CG6ycprr+B07VTeZDLWXcfen13B3omOFEJEFAGfOzfLISiKU9WMdL4dFTsPqhkr5+Y6bFnmsAxJ4fN8g7uPg5RGIFa2ET5j6Ipx9DasR02XKo41tuEzJj50Rhka9y7Ea+ahOSZABj3bv3QL9hU4UK3KvFaj+vUCpGljfc3wIS+ecGOkBAHOAxFR9PjU+BzcaR6EtB3DqcWo8gw4apJVitJlIp5xq3nF+nx9kgOZYvQDDlI6U8lgoqMC6B9UBbFKBCtqVPiiIjE19ALLqyMagBXljejYWyvCPIMM+PajNl/NRmL1OL79JeB4vZ+L/eMVeP71LFzpvaYKZrgXHNg39BE2/GwckbwdRESRCpHqGoJLBDZJyU4171VYnAOcaMHhUVUQiAiQHkx1o6/df60RTXfiwl8+F51F61FzURXFKG3U+LFevGaMGt9Vg84hIEMEbt5AJoTmShSJ51d0lCAjMRfVMuBrnlgNV/3XXXAMzcYmn0HbV6M67yqee7QJx1RJPKh+8k6cS3Rh4xOqgIhoCgQPfLIegNPhxkCPra6moArFqcM4HGLEdUkGSA73AI71qwKaXowaDvlvR4eaGlGmFut3bq7EHjV302i1TmLfdnv3zCjbXyPDmjw8lJWA8f63LKPGF6SLfxPnIlMvmYBLuDChtN4nWJr+ORz/91vVvNkh1E90NHg/ynbbzkskjPOqJv1cGmRtVwcay/V//a8j2LZh/fyY3YqTIhDNvO8TNU9EFH1+Ah8nSuua0NQkpsocuNq2ocUStIjleWkYbmtA6DqcQmSnAsPdgdv20DQgazbyR1Ev00NF9egdy0DJRC+kfpWh0XJh9E5hp6G6arC+oRfj6SXqOXpaC7Y2PJcu6o/zavajo2ouOuVzkIyF4aaqZAAott9U1IrBsV5xTk5hSccEUl1PfCKCrVtwwae2J4bIgMWcGhTHfGl5tU9gk7GuGnO71DoHBpGwvMJ0PmzpRW0KHChXv3s7kPRnpruIaMr4CXwG0LLNaJ+zC648EQBtLVTLZIPmUuSgD22dqiAI5+YHkeYOb12KZYNo9TTi7UZN16C4OC0MPz0U0h5Uei6K1qnSSEuFQwY/4sKbsa4RjbtLkDHU6qfhsl47UX1Hp9i+cQGOoNZGprosDZrlvkee6ipf8CkwNgvvq/lYlLdyMRLEOfS+B3vwWs84ErIesrz3soG4Z53m10RgnIC5GWpeyVgSQaCceB13q4dERNEWoo2PCIK6h4HUbOihTyHWLgP6Xg6nBkeu62Btz0w1qfSQXRRqfAwiMGkdykBGugjWnvKtV/DUThjLMuZ6enhFRgQ8k+zRNZW0Gi11DktkOi+9xDPvk4oKIPMOcWZMz5NT9fLwzlbyAuM1ZGDYisEJvD4R0VQIEfgobheG5L8F2UiDAzmVKhUmJtl13bFsi3hch9IsbW2NVtuDYZxhbc+Mk7cgGRgbxTk1P3lRqvER5AW/JKkXrT3JKLH0vurGW/3jYr9NjZsF7ViGTok9uLGaL94ypTUb3bXrPeewVf7xDrV65sPtvn/uQ3G+TM/zTEEDvkzMTfSmFHWm9zecnnQxXhNGRNNbiMCnEFVr0+DuP6bX2nQ2WLqpG13V5X18KirMbYGceCBL3t+nLYx2QDS9lOFr4le/pZFwrChvRPVyoLe5Bntqm9CLXFSb2iJ1Hz2L8cRcVBg1Dvm1qBDHMnjqRoc9wgu3isDxIyyN4R5M2vnytJkKj9ZzDoM4FShg7bqAS+qhP/X3fQS4/hoRxrtERGGz3cBQBDpNxUhTc9JwWwUagtTayBsWPnjZewNDSb+xoQvtFeE0gNbxxoFWsbINrTHvOmuDjcED1poY2WtIS6fY2NebUmo/LTckVI1zZTsVT2rLKNPnbuw+2tQ//1tswJ1IedLesysDj//4CeQ61KzHNfQ+9328FGHEqb0/MJ2DSNjOl+Q9x7K9lLxppV6ukQ2+zTVCQZ9v9wkOdf4BaF2E1S+oIiKiKPO5c/PNwoDDKla2oQcU4loUpCcOTdDqcZyuduHytL3Q64HP4v6J3v3aKnAgSEQUPeG18SGi6DuUgB+9/TlklrhRr4ri1hNubEi/HfsY9BDRFGPgQ3QTNdfMw463P8XD8T5I6epP/Q/dQUQUZUx12XAbREREMxdrfIiIiChuMPAhIiKiuMHAh4iIiOIGAx8iIiKKGwx8iIiIKG4w8CEiIqK4wcCH4tcTbow8/4maIaJIlddewem4vgcVTUc+9/GRY2/JEdc9zrejYqf/Ebf0MbnkYKTWsbpQUIWmtaYRv9x92LWtRR/oNADeP8cqVrYRPmPcpnH0NqxHTZcqjlUy6CmRN82bh02HVFnMKceKF7djMY7jwLc2waVK7ZzPjmBViprBORzZuDro31rEjPHazGOexaCHf1gP79fOCNoebcKbai4qVu7FhooVmK1mL/4iBR2vqJm4xfHVaPrxqfE5uNM8+no7hlOLUVWgFppllaJ0mYhp3GreoAU9QLtnG7vQhxxs2VqoVqAZRw5E2VEB9A+qglgnvqxLPsK51lgOesKTtPW0CHpksJOCPdoU3aBHDnDasWQUvWOqIEbd88/fxdqkd/Hco9V4UkxtwylY++Nv4B61PCqObsI+7Rzvw0VVRLdidevtyCy5gr2rVRFRjAuR6hqCSwQ2SclONe9VWJwDnGjB4VFVoDiTk0Q05BLPNAzgA9s6NJPkobZ8LjqL1qNmmlwNymuvIXMsCa/G/C/UZhz/lrjQBqntSZrnAEZORreGx1DeiIIP61H01FuqYCJkTWAH9tfkqfmpsBpfzZ2N4e6f4j1V8ubP34XbcR+++rgqoKnzggP7hv6IFV9n2pimh+CBT9YDcDrcGOixfa0WVKE4dRiHzektZeDlwxh25GBLXSm0cElb142+dv/pMopxMs2xtxZ58t8O8etfmxpRphYD3ajZFL2R2/Nq9uuvp+aj7zry//aPOHcoQYQV/mm1HH6PVe3f7jL9X2Mdn/3VL/bebXSgsVwtCpNMX5W9qqYX90L8nIi6kMfSXBmFUdfl56MVl5ZXa681JR7PQhpGcPolNS88/NX7IEJCJN2VoReEyXLeXz2kf4dFRKYnzdsYQdFjapHhsUPBl0eF7TNo+4xG+3Nc/e7tQPonHGyXpgU/gY8TpXVNaGoSU2UOXG3b0NKvFmnE8rw0DLc1wH8ocxANFRVoHxXBj9yGlvayb4OmlcRcVOePor6oCEVF9egdy0DJVF3EArB8QZunSIOk1f+N7MTP4fI5NW8jg56SpF51rEWo70lGiS34QXoJqu/o1JYXFbViUJyfClONRtnuauS6WtVyfaoMFGUFMPCMnro6cNKeS5bqUaQumlrbnpQNnovohq0RRlghjiU69qBSfm6SSsR7ZjuXYq7R3/sqpoiCRfdVVcu8GtWv1yPvygtoGwYc88wNFoPT2krNOY4DKm144OR8rIow+HE+ux2Lr+5TaUd9srQDkkHPmvk426SWNx3H7DXRDn5kwGL9DLa6xN+w/W8lmp/jF27FOXyKhUx30TTgJ/AZQMs2b/scV54IXkztc5ybS5GDPrR1qgIfeuBUPLcPu2QAdD4NxSIA8ttOiKaJQbRuqhG/3SXxC75rUPyUXhhZwDFJ3bXrLV/AnsmzX2HKvA4HbsEFv217yrAkfRy9zd5tdtd2iqPPwBLzRXhMBEaeRr578FrPOBLuyFTzSvoS2wU+mqrRoS6qR0bE7Ij3QrtvZ4QRVjjHEhWy5kdcgIdE0NyxH7X5qlgLivy8r2KKNFjE4xV4/vUVuPJcNZ75V729mfvKee3f0OqRmeLG2Ve8aUXXzjdxEZnIjDQoSVkaMFhyZmfi2skf4fhRVXB0E94R7+GC7CjWleQ/hMWJ4m/W1BB9T2svxhMX4yHPeRei/jn+I+ZPxUeHKMpCtPERQVC3+NmUmg099CnE2mVA38uBe2hpgZFjGO2qF5dsLN0uvnvS8lTqi2aGxLnikhAlpjRa9fIEvYbJ+OWvapaiVuMTTP5CJCMBuVXm1ygRYU8YTIHgnqeMC/wU7OONMIVB7bkPx8X/xTkuMS6nUarxcdyH7+RdxXOPfh8vaVFrBu6KJD+4ciFmi5B4cYU3BVX26gYsUIvDJWvqjoxkYpWxDUuashzz5gCzl243vYa5R174rOlYMZlrYDPmijNs+vzJqSpXlIVhJn2OiQIIEfgoRmPlgmykiS+HnEqVChOT7PruWLZFPK5DaZb4gTDfYWvcDAxd9lddT9NV3oJk8WtxFAGyRZFrrvT8yq8Xvzq1X6LGL3/1izRqNT7nZsEdqEq+6wIuQXbH932dYLUPmXeIS4rrgmU/5EVDf249eiECuRucGpwof8cSHXp7kerll9Aqz4uppmHSNT4v9UP8PLM0bha/1jDPcQ3vHQuzp+HRC7gmPhmeFJRpirTLupGm3LNxB85iBdY9a9TmNOPKVeDayR2W7WvTM9VqnfB4P19qMtXuYHBUfIoH9fNsmYLfZmLyn+PAKWSiWBIi8ClE1do0uPuP6TU8nQ0qBeadZG2OvI9PhWrHc/DXMrHuxAMiCNLJWiIRDI1+ELCWiKaTMnxteQLG+9+agovjDXDoMzgz9kdkr/J3b6M9ODWUgNzyCH7Z5teiIF1ca06ZLjwW3bgQqEtWrAl5LBMla3WM9iLRawjvdQinxddO2toKPKxKHv5hAdLcgzgW9oe0GudGHFj8WDQbkuuBjtnAmXOYvfTbWLFSFUyFrrdwNtJ2eJP9HD/xCTIDppCJYovtBoYi0GkqhunWgxhuq0BDwPY84hlbm/DgZesNDI0bG3oEuQmigTcOtIqVbXhuXmcyeMD6a1xrECy+NO3s64VDprSqs86iPtKanAjIu81u/9vPYsff++/Z5Xs88tezfsHW9k+m4zzsN2xUDUsT1awka7AiOh7ZeNlfmsX35oRag1zsi7jGQAp5LPL+TP5SJBEdj34+FvfXR6GHWHCWGxi638Vz/2CuAQqP9WaQkvecy3smrVtq+l5TZA2O3rZK3XDSvIrbz80ntQbO1kRx9G+GGPxzGO3Pcf3zv8UG3ImUJ29VJUSxy+fOzTcLAw6rWNmGHvjAc+GfGfS7zc5/+29wb80sVRaeGxGY3Sgz6VgoMlF975+Qd0EH9hU4EHn4TXTjhdfGh2hG0e826/jSVd5tlmhSjLugM+ih6YOBD8WnFxxIab2Fd5slmgR5F3RZc8pxumg6YarLhtsgIiKauVjjQ0RERHEC+P/MSY0JD8peWQAAAABJRU5ErkJggg==)"
      ],
      "metadata": {
        "id": "aBGHZHHyR-gr"
      }
    },
    {
      "cell_type": "code",
      "source": [
        "x1 = lambda x0: x0*(1 + 1e-4) + 1e-4"
      ],
      "metadata": {
        "id": "qlJ71eN6JLb0"
      },
      "execution_count": null,
      "outputs": []
    },
    {
      "cell_type": "code",
      "source": [
        "x1(2)"
      ],
      "metadata": {
        "id": "IxDhVnaLJQDM"
      },
      "execution_count": null,
      "outputs": []
    },
    {
      "cell_type": "markdown",
      "source": [
        "Borrar"
      ],
      "metadata": {
        "id": "X3VG2tWSymkU"
      }
    },
    {
      "cell_type": "code",
      "source": [
        "from scipy.optimize import newton\n",
        "from math import atan\n",
        "# f = lambda x: x**3 - 3*x**2 + x - 1\n",
        "def f(x):\n",
        "  print(x)\n",
        "  return 0.5*x**3 - 6*x**2 +21.5*x - 22\n",
        "x0 = 5\n",
        "r = newton(func=f, x0=x0, full_output=True, x1=4.5)\n",
        "# r = newton(func=f, x0=x0, full_output=True)\n",
        "r"
      ],
      "metadata": {
        "id": "9_kFR_2ZymQs"
      },
      "execution_count": null,
      "outputs": []
    }
  ]
}